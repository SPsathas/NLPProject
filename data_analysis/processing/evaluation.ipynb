{
 "cells": [
  {
   "cell_type": "code",
   "execution_count": 1,
   "metadata": {},
   "outputs": [
    {
     "name": "stderr",
     "output_type": "stream",
     "text": [
      "/Users/timotheusberg/miniconda3/envs/bcqa/lib/python3.10/site-packages/tqdm/auto.py:21: TqdmWarning: IProgress not found. Please update jupyter and ipywidgets. See https://ipywidgets.readthedocs.io/en/stable/user_install.html\n",
      "  from .autonotebook import tqdm as notebook_tqdm\n"
     ]
    }
   ],
   "source": [
    "import csv\n",
    "import os\n",
    "import pandas as pd\n",
    "from sentence_transformers import SentenceTransformer, util\n",
    "from sklearn.feature_extraction.text import TfidfVectorizer\n",
    "from sklearn.metrics.pairwise import cosine_similarity\n",
    "from metrics.ExactMatch import ExactMatch\n",
    "\n",
    "def rename_key(data_dict, old_key, new_key):\n",
    "    if old_key in data_dict:\n",
    "        data_dict[new_key] = data_dict.pop(old_key)\n",
    "    else:\n",
    "        print(f\"Key '{old_key}' not found in the dictionary.\")"
   ]
  },
  {
   "cell_type": "code",
   "execution_count": 2,
   "metadata": {},
   "outputs": [],
   "source": [
    "# function to load a CSV file into a dictionary\n",
    "# the dictionary keys are the column headers and the values are lists of column data\n",
    "def load_csv_to_dict(file_path, name, delimiter=','):\n",
    "    with open(file_path, mode='r', encoding='utf-8') as csv_file:\n",
    "        csv_reader = csv.DictReader(csv_file, delimiter=delimiter)\n",
    "        \n",
    "        data_dict = {field: [] for field in csv_reader.fieldnames}\n",
    "        data_dict['name'] = name  # Add the experiment name to the dictionary\n",
    "\n",
    "        for row in csv_reader:\n",
    "            for field in csv_reader.fieldnames:\n",
    "                data_dict[field].append(row[field])\n",
    "\n",
    "    return data_dict\n",
    "\n",
    "# function tofind all results.csv files\n",
    "# returns a list of tuples containing the parent directory name and the path to the results.csv file\n",
    "def load_results_csv_paths(root_dir):\n",
    "    results_list = []\n",
    "\n",
    "    for root, dirs, files in os.walk(root_dir):\n",
    "        for dir_name in dirs:\n",
    "            csv_dir_path = os.path.join(root, dir_name, 'csv')\n",
    "            results_path = os.path.join(csv_dir_path, 'results.csv')\n",
    "            \n",
    "            if os.path.isfile(results_path):\n",
    "                parent_dir = os.path.basename(root)\n",
    "                results_list.append((parent_dir, results_path))\n",
    "\n",
    "    return results_list"
   ]
  },
  {
   "cell_type": "code",
   "execution_count": 10,
   "metadata": {},
   "outputs": [],
   "source": [
    "def compute_cosine_similarity(sentence1, sentence2):\n",
    "    \"\"\"\n",
    "    Compute the cosine similarity between two sentences using TF-IDF.\n",
    "\n",
    "    Args:\n",
    "    sentence1 (str): The first sentence.\n",
    "    sentence2 (str): The second sentence.\n",
    "\n",
    "    Returns:\n",
    "    float: The cosine similarity score between the two sentences.\n",
    "    \"\"\"\n",
    "\n",
    "    # Create a TF-IDF vectorizer\n",
    "\n",
    "    # Create a TF-IDF vectorizer\n",
    "    vectorizer = TfidfVectorizer()\n",
    "\n",
    "    # Transform the sentences into TF-IDF vectors\n",
    "    tfidf_matrix = vectorizer.fit_transform([sentence1, sentence2])\n",
    "\n",
    "    # Compute the cosine similarity between the sentences\n",
    "    similarity_matrix = cosine_similarity(tfidf_matrix[0:1], tfidf_matrix[1:2])\n",
    "\n",
    "    # Print the similarity score\n",
    "    similarity_score = similarity_matrix[0][0]\n",
    "\n",
    "    return similarity_score\n",
    "\n",
    "\n",
    "def exact_match(prediction, reference) -> float:\n",
    "    \"\"\"\n",
    "    \"\"\"\n",
    "    exact_match_metric = ExactMatch()\n",
    "    results = exact_match_metric.evaluate(prediction, reference)\n",
    "\n",
    "    return results\n",
    "\n",
    "def strip_string(string):\n",
    "    # lower case the string and remove punctuation\n",
    "    string = string.lower()\n",
    "    string = string.replace('.', '')\n",
    "    string = string.replace(',', '')\n",
    "    string = string.replace('?', '')\n",
    "    string = string.replace('!', '')\n",
    "    string = string.replace(';', '')\n",
    "    string = string.replace(':', '')\n",
    "    \n",
    "    return string\n",
    "\n",
    "def scores(responde_file, K):\n",
    "    \"\"\"\n",
    "    Calculate the BERT similarity scores between correct and predicted answers,\n",
    "    and create a new CSV file with these scores.\n",
    "\n",
    "    :param question: The list of questions corresponding to the answers\n",
    "    :param correct_answers: A list of correct answers\n",
    "    :param predicted_answers: A list of predicted answers\n",
    "    :param evaluation_csv_path: Path to the CSV file to be created\n",
    "    :param K: Column name for the similarity scores in the CSV\n",
    "    \"\"\"\n",
    "    questions = responde_file['Prompt']\n",
    "    predicted_answers = [strip_string(string) for string in responde_file['GPT Response']]\n",
    "    correct_answers = [strip_string(string) for string in responde_file['Ground Truth Answer']]\n",
    "    # Load the pre-trained Sentence-BERT model\n",
    "    model = SentenceTransformer('paraphrase-MiniLM-L6-v2')\n",
    "\n",
    "    # Check if the input lists have the same length\n",
    "    if len(correct_answers) != len(predicted_answers):\n",
    "        raise ValueError(\"The lists of correct and predicted answers must have the same length\")\n",
    "\n",
    "    # Prepare data for the DataFrame\n",
    "    data_list = []\n",
    "    index = 0\n",
    "    # Compute the similarity score for each pair of answers\n",
    "    for correct, predicted, question in zip(correct_answers, predicted_answers, questions):\n",
    "        # Encode the sentences to get their embeddings\n",
    "        embedding1 = model.encode(correct, convert_to_tensor=True)\n",
    "        embedding2 = model.encode(predicted, convert_to_tensor=True)\n",
    "\n",
    "        # Compute the cosine similarity between the embeddings\n",
    "        bert_score = util.pytorch_cos_sim(embedding1, embedding2).item()\n",
    "        cosine_score = compute_cosine_similarity(correct, predicted)\n",
    "        exact_match_score = exact_match(correct, predicted)\n",
    "        # Collect data\n",
    "        data_list.append({'index': index,\n",
    "                          'question': question,\n",
    "                          'predicted_answer': predicted,\n",
    "                          'actual_answer': correct,\n",
    "                          'bert_score': bert_score,\n",
    "                          'cosine_score': cosine_score,\n",
    "                          'exact_match': exact_match_score\n",
    "                          })\n",
    "        index += 1\n",
    "    # Create a DataFrame from collected data\n",
    "    data = pd.DataFrame(data_list)\n",
    "\n",
    "    # Save the DataFrame to a new CSV file\n",
    "    return data\n",
    "\n",
    "\n",
    "def calculate_bert_scores(file_path1, file_path2):\n",
    "    \"\"\"\n",
    "    Calculate the BERT scores between corresponding predicted answers in two result files.\n",
    "\n",
    "    :param file_path1: Path to the first CSV file (results_retrival_1.csv).\n",
    "    :param file_path2: Path to the second CSV file (results_retrival_3.csv).\n",
    "    :return: DataFrame with the BERT scores for corresponding rows.\n",
    "    \"\"\"\n",
    "    # Load the CSV files\n",
    "    df1 = pd.read_csv(file_path1)\n",
    "    df2 = pd.read_csv(file_path2)\n",
    "\n",
    "    # Load the pre-trained Sentence-BERT model\n",
    "    model = SentenceTransformer('paraphrase-MiniLM-L6-v2')\n",
    "\n",
    "    # Check if the files have the same number of rows\n",
    "    if len(df1) != len(df2):\n",
    "        raise ValueError(\"Both files must have the same number of rows for 1-to-1 comparison.\")\n",
    "\n",
    "    # List to hold the score data\n",
    "    scores_list = []\n",
    "\n",
    "    # Iterate over the rows in both DataFrames by index\n",
    "    for index, (predicted1, predicted2) in enumerate(zip(df1['predicted_answer'], df2['predicted_answer'])):\n",
    "        # Encode the predicted answers to get their embeddings\n",
    "        embedding1 = model.encode(predicted1, convert_to_tensor=True)\n",
    "        embedding2 = model.encode(predicted2, convert_to_tensor=True)\n",
    "\n",
    "        # Compute the cosine similarity between the embeddings\n",
    "        bert_score = util.pytorch_cos_sim(embedding1, embedding2).item()\n",
    "\n",
    "        # Append the results to the list\n",
    "        scores_list.append({\n",
    "            'Index': index,\n",
    "            'Predicted_Answer_File1': predicted1,\n",
    "            'Predicted_Answer_File2': predicted2,\n",
    "            'BERT_Score': bert_score\n",
    "        })\n",
    "\n",
    "    # Create a DataFrame from collected data\n",
    "    result_df = pd.DataFrame(scores_list)\n",
    "    result_df.to_csv(f'data/results_cross_scores.csv', index=False)\n",
    "\n"
   ]
  },
  {
   "cell_type": "markdown",
   "metadata": {},
   "source": [
    "**CELL BELOW IS JUST FOR THE RANDOM EXPERIMENTS (3)**"
   ]
  },
  {
   "cell_type": "code",
   "execution_count": 4,
   "metadata": {},
   "outputs": [],
   "source": [
    "# set the root directory to start searching for results.csv files, should be the folder containing the results folder\n",
    "root_directory = './abraham/'\n",
    "results_list = load_results_csv_paths(root_directory)\n",
    "\n",
    "csv_list = []\n",
    "\n",
    "# load each results.csv file into a dictionary and add it to csv_list\n",
    "for name, path in results_list:\n",
    "    results = load_csv_to_dict(path, name)\n",
    "    csv_list.append(results)\n",
    "\n",
    "# now csv_list contains a list of dictionaries, each dictionary representing a CSV file\n",
    "# the fields in each dictionary are 'name' (experiment description) and the CSV headers\n",
    "\n",
    "# example print statements to show some data from the frist csv dictionary in csv_list\n",
    "# print(\"Experiment name:\", csv_list[0]['name'])\n",
    "# print(\"Number of Ground Truth Answers:\", len(csv_list[0]['Ground Truth Answer']))\n",
    "# print(\"First GPT Response:\", csv_list[0]['GPT Response'][0])\n",
    "# print(\"First Question ID:\", csv_list[0]['Question ID'][0])\n",
    "# print(\"First Prompt:\\n\", csv_list[0]['Prompt'][0])"
   ]
  },
  {
   "cell_type": "markdown",
   "metadata": {},
   "source": [
    "**COMPUTE SCORES FOR THE RANDOM EXPERIMENTS**"
   ]
  },
  {
   "cell_type": "code",
   "execution_count": 12,
   "metadata": {},
   "outputs": [
    {
     "name": "stderr",
     "output_type": "stream",
     "text": [
      "/Users/timotheusberg/miniconda3/envs/bcqa/lib/python3.10/site-packages/huggingface_hub/file_download.py:1132: FutureWarning: `resume_download` is deprecated and will be removed in version 1.0.0. Downloads always resume when possible. If you want to force a new download, use `force_download=True`.\n",
      "  warnings.warn(\n"
     ]
    },
    {
     "name": "stdout",
     "output_type": "stream",
     "text": [
      "scores for top10-random-k1_3-k2_2_middle saved to scores/top10-random-k1_3-k2_2_middle_scores.csv\n",
      "scores for top10-random-k1_3-k2_2_last saved to scores/top10-random-k1_3-k2_2_last_scores.csv\n",
      "scores for top10-random-k1_5-k2_2_middle saved to scores/top10-random-k1_5-k2_2_middle_scores.csv\n",
      "scores for top10-random-k1_5-k2_2_last saved to scores/top10-random-k1_5-k2_2_last_scores.csv\n",
      "scores for top10-random-k1_5-k2_2_first saved to scores/top10-random-k1_5-k2_2_first_scores.csv\n",
      "scores for top10-random-k1_3-k2_2_first saved to scores/top10-random-k1_3-k2_2_first_scores.csv\n",
      "scores for top10-random-k1_1-k2_2_last saved to scores/top10-random-k1_1-k2_2_last_scores.csv\n",
      "scores for top10-random-k1_1-k2_2_middle saved to scores/top10-random-k1_1-k2_2_middle_scores.csv\n",
      "scores for top10-random-k1_1-k2_2_first saved to scores/top10-random-k1_1-k2_2_first_scores.csv\n"
     ]
    }
   ],
   "source": [
    "# make dir for scores\n",
    "os.makedirs('./abraham/scores', exist_ok=True)\n",
    "\n",
    "for csv_file in csv_list:\n",
    "    data = scores(csv_file, 0)\n",
    "    data.to_csv(f'./abraham/scores/{csv_file[\"name\"]}_scores.csv', index=False)\n",
    "    print(f'scores for {csv_file[\"name\"]} saved to scores/{csv_file[\"name\"]}_scores.csv')\n"
   ]
  },
  {
   "cell_type": "markdown",
   "metadata": {},
   "source": [
    "**LOAD CSV FILES OF EARLIER EXPERIMENTS (0), (1), (2)**"
   ]
  },
  {
   "cell_type": "code",
   "execution_count": 15,
   "metadata": {},
   "outputs": [
    {
     "name": "stdout",
     "output_type": "stream",
     "text": [
      "e1_qa_topk_k3\n",
      "e1_qa_topk_k1\n",
      "e2_oracle\n",
      "e1_qa_topk_k5\n",
      "e0_qa_output_no_context\n",
      "\n",
      "\n",
      "dict_keys(['Prompt', 'name', 'GPT Response', 'Ground Truth Answer'])\n",
      "scores for e1_qa_topk_k3 saved to scores/e1_qa_topk_k3_scores.csv\n",
      "scores for e1_qa_topk_k1 saved to scores/e1_qa_topk_k1_scores.csv\n",
      "scores for e2_oracle saved to scores/e2_oracle_scores.csv\n",
      "scores for e1_qa_topk_k5 saved to scores/e1_qa_topk_k5_scores.csv\n",
      "scores for e0_qa_output_no_context saved to scores/e0_qa_output_no_context_scores.csv\n"
     ]
    }
   ],
   "source": [
    "path = './abraham/results/_earlier_experiments'\n",
    "\n",
    "# load every csv file in the directory\n",
    "\n",
    "earlier_dicts = []\n",
    "\n",
    "for file in os.listdir(path):\n",
    "    if file.endswith('.csv'):\n",
    "        file_path = os.path.join(path, file)\n",
    "        file_name = file.split('.')[0]\n",
    "        _dict = load_csv_to_dict(file_path, file_name, delimiter=';')\n",
    "        rename_key(_dict, 'Response', 'GPT Response')\n",
    "        rename_key(_dict, 'Ground Truth', 'Ground Truth Answer')\n",
    "        earlier_dicts.append(_dict)\n",
    "        print(_dict['name'])\n",
    "print('\\n')\n",
    "        \n",
    "print(earlier_dicts[0].keys())\n",
    "\n",
    "for csv_file in earlier_dicts:\n",
    "    data = scores(csv_file, 0)\n",
    "    data.to_csv(f'./abraham/scores/{csv_file[\"name\"]}_scores.csv', index=False)\n",
    "    print(f'scores for {csv_file[\"name\"]} saved to scores/{csv_file[\"name\"]}_scores.csv')"
   ]
  },
  {
   "cell_type": "markdown",
   "metadata": {},
   "source": [
    "**ADORE (4)**"
   ]
  },
  {
   "cell_type": "code",
   "execution_count": 18,
   "metadata": {},
   "outputs": [
    {
     "name": "stdout",
     "output_type": "stream",
     "text": [
      "e1_adore_trained_k5\n",
      "e1_adore_trained_k3\n",
      "e1_adore_trained_k1\n",
      "\n",
      "\n",
      "dict_keys(['Prompt', 'name', 'GPT Response', 'Ground Truth Answer'])\n",
      "scores for e1_adore_trained_k5 saved to scores/e1_adore_trained_k5_scores.csv\n",
      "scores for e1_adore_trained_k3 saved to scores/e1_adore_trained_k3_scores.csv\n",
      "scores for e1_adore_trained_k1 saved to scores/e1_adore_trained_k1_scores.csv\n"
     ]
    }
   ],
   "source": [
    "path = './abraham/results/_adore'\n",
    "\n",
    "# load every csv file in the directory\n",
    "\n",
    "earlier_dicts = []\n",
    "\n",
    "for file in os.listdir(path):\n",
    "    if file.endswith('.csv'):\n",
    "        file_path = os.path.join(path, file)\n",
    "        file_name = file.split('.')[0]\n",
    "        _dict = load_csv_to_dict(file_path, file_name, delimiter=';')\n",
    "        rename_key(_dict, 'Response', 'GPT Response')\n",
    "        rename_key(_dict, 'Ground Truth', 'Ground Truth Answer')\n",
    "        earlier_dicts.append(_dict)\n",
    "        print(_dict['name'])\n",
    "print('\\n')\n",
    "        \n",
    "print(earlier_dicts[0].keys())\n",
    "\n",
    "for csv_file in earlier_dicts:\n",
    "    data = scores(csv_file, 0)\n",
    "    data.to_csv(f'./abraham/scores/{csv_file[\"name\"]}_scores.csv', index=False)\n",
    "    print(f'scores for {csv_file[\"name\"]} saved to scores/{csv_file[\"name\"]}_scores.csv')"
   ]
  },
  {
   "cell_type": "markdown",
   "metadata": {},
   "source": [
    "**Hard Negatives**"
   ]
  },
  {
   "cell_type": "code",
   "execution_count": 17,
   "metadata": {},
   "outputs": [
    {
     "name": "stdout",
     "output_type": "stream",
     "text": [
      "e4_qa_hard_negatives_k5\n",
      "e4_qa_hard_negatives_k1\n",
      "e4_qa_hard_negatives_k3\n",
      "\n",
      "\n",
      "dict_keys(['Prompt', 'name', 'GPT Response', 'Ground Truth Answer'])\n",
      "scores for e4_qa_hard_negatives_k5 saved to scores/e4_qa_hard_negatives_k5_scores.csv\n",
      "scores for e4_qa_hard_negatives_k1 saved to scores/e4_qa_hard_negatives_k1_scores.csv\n",
      "scores for e4_qa_hard_negatives_k3 saved to scores/e4_qa_hard_negatives_k3_scores.csv\n"
     ]
    }
   ],
   "source": [
    "path = './abraham/results/_hardnegatives'\n",
    "\n",
    "# load every csv file in the directory\n",
    "\n",
    "earlier_dicts = []\n",
    "\n",
    "for file in os.listdir(path):\n",
    "    if file.endswith('.csv'):\n",
    "        file_path = os.path.join(path, file)\n",
    "        file_name = file.split('.')[0]\n",
    "        _dict = load_csv_to_dict(file_path, file_name, delimiter=';')\n",
    "        rename_key(_dict, 'Response', 'GPT Response')\n",
    "        rename_key(_dict, 'Ground Truth', 'Ground Truth Answer')\n",
    "        earlier_dicts.append(_dict)\n",
    "        print(_dict['name'])\n",
    "print('\\n')\n",
    "        \n",
    "print(earlier_dicts[0].keys())\n",
    "\n",
    "for csv_file in earlier_dicts:\n",
    "    data = scores(csv_file, 0)\n",
    "    data.to_csv(f'./abraham/scores/{csv_file[\"name\"]}_scores.csv', index=False)\n",
    "    print(f'scores for {csv_file[\"name\"]} saved to scores/{csv_file[\"name\"]}_scores.csv')"
   ]
  },
  {
   "cell_type": "code",
   "execution_count": 20,
   "metadata": {},
   "outputs": [
    {
     "name": "stdout",
     "output_type": "stream",
     "text": [
      "e1_adore_trained_k10\n",
      "e1_adore_k10\n",
      "\n",
      "\n",
      "dict_keys(['Prompt', 'name', 'GPT Response', 'Ground Truth Answer'])\n",
      "scores for e1_adore_trained_k10 saved to scores/e1_adore_trained_k10_scores.csv\n",
      "scores for e1_adore_k10 saved to scores/e1_adore_k10_scores.csv\n"
     ]
    }
   ],
   "source": [
    "path = './abraham/results/further_experiments'\n",
    "\n",
    "# load every csv file in the directory\n",
    "\n",
    "earlier_dicts = []\n",
    "\n",
    "for file in os.listdir(path):\n",
    "    if file.endswith('.csv'):\n",
    "        file_path = os.path.join(path, file)\n",
    "        file_name = file.split('.')[0]\n",
    "        _dict = load_csv_to_dict(file_path, file_name, delimiter=';')\n",
    "        rename_key(_dict, 'Response', 'GPT Response')\n",
    "        rename_key(_dict, 'Ground Truth', 'Ground Truth Answer')\n",
    "        earlier_dicts.append(_dict)\n",
    "        print(_dict['name'])\n",
    "print('\\n')\n",
    "        \n",
    "print(earlier_dicts[0].keys())\n",
    "\n",
    "for csv_file in earlier_dicts:\n",
    "    data = scores(csv_file, 0)\n",
    "    data.to_csv(f'./abraham/scores/{csv_file[\"name\"]}_scores.csv', index=False)\n",
    "    print(f'scores for {csv_file[\"name\"]} saved to scores/{csv_file[\"name\"]}_scores.csv')"
   ]
  }
 ],
 "metadata": {
  "kernelspec": {
   "display_name": "base",
   "language": "python",
   "name": "python3"
  },
  "language_info": {
   "codemirror_mode": {
    "name": "ipython",
    "version": 3
   },
   "file_extension": ".py",
   "mimetype": "text/x-python",
   "name": "python",
   "nbconvert_exporter": "python",
   "pygments_lexer": "ipython3",
   "version": "3.10.14"
  }
 },
 "nbformat": 4,
 "nbformat_minor": 2
}
